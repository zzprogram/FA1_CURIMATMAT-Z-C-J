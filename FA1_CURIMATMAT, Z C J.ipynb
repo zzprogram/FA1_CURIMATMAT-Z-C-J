{
 "cells": [
  {
   "cell_type": "markdown",
   "id": "34833253",
   "metadata": {},
   "source": [
    "# How many seconds are there in 42 minutes 42 seconds?"
   ]
  },
  {
   "cell_type": "code",
   "execution_count": 1,
   "id": "88cd7c50",
   "metadata": {},
   "outputs": [
    {
     "name": "stdout",
     "output_type": "stream",
     "text": [
      "2562 seconds\n"
     ]
    }
   ],
   "source": [
    "seconds = (42*60) + 42\n",
    "print(seconds, \"seconds\")"
   ]
  },
  {
   "cell_type": "markdown",
   "id": "8c5d830e",
   "metadata": {},
   "source": [
    "# How many miles are there in 10 kilometers? Hint: there are 1.61 kilometers in a mile."
   ]
  },
  {
   "cell_type": "code",
   "execution_count": 2,
   "id": "084c5b39",
   "metadata": {},
   "outputs": [
    {
     "name": "stdout",
     "output_type": "stream",
     "text": [
      "6.21 miles\n"
     ]
    }
   ],
   "source": [
    "miles = 10/1.61 \n",
    "print(\"%.02f miles\" %(miles))"
   ]
  },
  {
   "cell_type": "markdown",
   "id": "c7bcfc58",
   "metadata": {},
   "source": [
    "# If you run a 10 kilometer race in 42 minutes 42 seconds, what is your average pace (time per mile in minutes and seconds)? What is your average speed in miles per hour?"
   ]
  },
  {
   "cell_type": "code",
   "execution_count": 4,
   "id": "4fe27fb6",
   "metadata": {},
   "outputs": [
    {
     "name": "stdout",
     "output_type": "stream",
     "text": [
      "6 : 52 the average pace in 6.21 miles\n",
      "8.73 the average speed mph\n"
     ]
    }
   ],
   "source": [
    "seconds = (42*60) + 42\n",
    "miles = 10/1.61 \n",
    "hours = (seconds/60)/60\n",
    "\n",
    "pace = seconds/miles\n",
    "minutes = pace//60\n",
    "sec = pace-(minutes*60)\n",
    "speed = miles/hours\n",
    "\n",
    "print(\"%d : %d the average pace in 6.21 miles\" %(minutes, sec))\n",
    "print(\"%.02f the average speed mph\" %(speed))"
   ]
  }
 ],
 "metadata": {
  "kernelspec": {
   "display_name": "Python 3 (ipykernel)",
   "language": "python",
   "name": "python3"
  },
  "language_info": {
   "codemirror_mode": {
    "name": "ipython",
    "version": 3
   },
   "file_extension": ".py",
   "mimetype": "text/x-python",
   "name": "python",
   "nbconvert_exporter": "python",
   "pygments_lexer": "ipython3",
   "version": "3.11.5"
  }
 },
 "nbformat": 4,
 "nbformat_minor": 5
}
